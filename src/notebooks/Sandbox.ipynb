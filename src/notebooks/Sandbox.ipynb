{
 "cells": [
  {
   "cell_type": "code",
   "execution_count": 364,
   "metadata": {},
   "outputs": [
    {
     "name": "stdout",
     "output_type": "stream",
     "text": [
      "/Users/andrew/src/otp-scheduler\n"
     ]
    }
   ],
   "source": [
    "import os\n",
    "import sys\n",
    "module_path = os.path.abspath(os.path.join('../..'))\n",
    "print(module_path)\n",
    "if module_path not in sys.path:\n",
    "    sys.path.append(module_path)"
   ]
  },
  {
   "cell_type": "code",
   "execution_count": 365,
   "metadata": {
    "scrolled": true
   },
   "outputs": [],
   "source": [
    "import pandas as pd\n",
    "from src import parse"
   ]
  },
  {
   "cell_type": "code",
   "execution_count": 397,
   "metadata": {},
   "outputs": [],
   "source": [
    "def sort_schedule(df):\n",
    "    return df.sort_values(by=['zone', 'priority_rank', 'code']).reset_index(drop=True)"
   ]
  },
  {
   "cell_type": "code",
   "execution_count": 398,
   "metadata": {},
   "outputs": [],
   "source": [
    "# ASSUMPTIONS\n",
    "MEAL_CAPACITY = 10000\n",
    "MAX_DROPOFFS_PER_RUN = 4\n",
    "MIN_MEALS_PER_RUN = 50"
   ]
  },
  {
   "cell_type": "code",
   "execution_count": 399,
   "metadata": {},
   "outputs": [],
   "source": [
    "restaurants = parse.parse_from_restaurants_csv('../../examples/boston/20200405/restaurants.csv').set_index('code')"
   ]
  },
  {
   "cell_type": "code",
   "execution_count": 400,
   "metadata": {},
   "outputs": [
    {
     "data": {
      "text/plain": [
       "(8, 23)"
      ]
     },
     "execution_count": 400,
     "metadata": {},
     "output_type": "execute_result"
    }
   ],
   "source": [
    "restaurants.shape"
   ]
  },
  {
   "cell_type": "code",
   "execution_count": 401,
   "metadata": {},
   "outputs": [],
   "source": [
    "hospitals = sort_schedule(parse.parse_from_hospital_requests_csv('../../examples/boston/20200405/hospitals.csv'))"
   ]
  },
  {
   "cell_type": "code",
   "execution_count": 402,
   "metadata": {
    "scrolled": true
   },
   "outputs": [],
   "source": [
    "schedule = hospitals.iloc[:, 5:]"
   ]
  },
  {
   "cell_type": "code",
   "execution_count": 403,
   "metadata": {
    "scrolled": true
   },
   "outputs": [],
   "source": [
    "results = sort_schedule(parse.parse_from_results_csv('../../examples/boston/20200405/results.csv'))\n"
   ]
  },
  {
   "cell_type": "code",
   "execution_count": 404,
   "metadata": {},
   "outputs": [],
   "source": [
    "results_schedule = results.iloc[:, 5:]\n",
    "results_schedule_columns = results_schedule.columns"
   ]
  },
  {
   "cell_type": "code",
   "execution_count": 405,
   "metadata": {},
   "outputs": [],
   "source": [
    "log = []\n",
    "for i, row in results_schedule.iterrows():\n",
    "    for j, val in enumerate(row):\n",
    "        if not pd.isnull(val):\n",
    "            log.append([\n",
    "                hospitals.iloc[i, 1], \n",
    "                hospitals.iloc[i, 4],\n",
    "                results_schedule_columns[j], \n",
    "                val, \n",
    "                schedule.iloc[i, j], \n",
    "                restaurants[results_schedule_columns[j]][val],\n",
    "            ])"
   ]
  },
  {
   "cell_type": "code",
   "execution_count": 407,
   "metadata": {},
   "outputs": [
    {
     "data": {
      "text/html": [
       "<div>\n",
       "<style scoped>\n",
       "    .dataframe tbody tr th:only-of-type {\n",
       "        vertical-align: middle;\n",
       "    }\n",
       "\n",
       "    .dataframe tbody tr th {\n",
       "        vertical-align: top;\n",
       "    }\n",
       "\n",
       "    .dataframe thead th {\n",
       "        text-align: right;\n",
       "    }\n",
       "</style>\n",
       "<table border=\"1\" class=\"dataframe\">\n",
       "  <thead>\n",
       "    <tr style=\"text-align: right;\">\n",
       "      <th></th>\n",
       "      <th>hospital</th>\n",
       "      <th>zone</th>\n",
       "      <th>meal</th>\n",
       "      <th>restaurant</th>\n",
       "      <th>quantity</th>\n",
       "      <th>restaurant_capacity</th>\n",
       "    </tr>\n",
       "  </thead>\n",
       "  <tbody>\n",
       "    <tr>\n",
       "      <th>0</th>\n",
       "      <td>BIDMC - West Campus</td>\n",
       "      <td>1</td>\n",
       "      <td>lunch_mon</td>\n",
       "      <td>PO</td>\n",
       "      <td>60.0</td>\n",
       "      <td>200.0</td>\n",
       "    </tr>\n",
       "    <tr>\n",
       "      <th>1</th>\n",
       "      <td>BIDMC - West Campus</td>\n",
       "      <td>1</td>\n",
       "      <td>lunch_tues</td>\n",
       "      <td>FC</td>\n",
       "      <td>60.0</td>\n",
       "      <td>300.0</td>\n",
       "    </tr>\n",
       "    <tr>\n",
       "      <th>2</th>\n",
       "      <td>BIDMC - West Campus</td>\n",
       "      <td>1</td>\n",
       "      <td>lunch_wed</td>\n",
       "      <td>PG</td>\n",
       "      <td>60.0</td>\n",
       "      <td>600.0</td>\n",
       "    </tr>\n",
       "    <tr>\n",
       "      <th>3</th>\n",
       "      <td>BIDMC - West Campus</td>\n",
       "      <td>1</td>\n",
       "      <td>lunch_thurs</td>\n",
       "      <td>PO</td>\n",
       "      <td>60.0</td>\n",
       "      <td>200.0</td>\n",
       "    </tr>\n",
       "    <tr>\n",
       "      <th>4</th>\n",
       "      <td>BIDMC - West Campus</td>\n",
       "      <td>1</td>\n",
       "      <td>lunch_fri</td>\n",
       "      <td>PG</td>\n",
       "      <td>60.0</td>\n",
       "      <td>600.0</td>\n",
       "    </tr>\n",
       "    <tr>\n",
       "      <th>5</th>\n",
       "      <td>BIDMC - East Campus</td>\n",
       "      <td>1</td>\n",
       "      <td>lunch_mon</td>\n",
       "      <td>PO</td>\n",
       "      <td>30.0</td>\n",
       "      <td>200.0</td>\n",
       "    </tr>\n",
       "    <tr>\n",
       "      <th>6</th>\n",
       "      <td>BIDMC - East Campus</td>\n",
       "      <td>1</td>\n",
       "      <td>lunch_tues</td>\n",
       "      <td>FC</td>\n",
       "      <td>30.0</td>\n",
       "      <td>300.0</td>\n",
       "    </tr>\n",
       "    <tr>\n",
       "      <th>7</th>\n",
       "      <td>BIDMC - East Campus</td>\n",
       "      <td>1</td>\n",
       "      <td>lunch_wed</td>\n",
       "      <td>PG</td>\n",
       "      <td>30.0</td>\n",
       "      <td>600.0</td>\n",
       "    </tr>\n",
       "    <tr>\n",
       "      <th>8</th>\n",
       "      <td>BIDMC - East Campus</td>\n",
       "      <td>1</td>\n",
       "      <td>lunch_thurs</td>\n",
       "      <td>PO</td>\n",
       "      <td>30.0</td>\n",
       "      <td>200.0</td>\n",
       "    </tr>\n",
       "    <tr>\n",
       "      <th>9</th>\n",
       "      <td>BIDMC - East Campus</td>\n",
       "      <td>1</td>\n",
       "      <td>lunch_fri</td>\n",
       "      <td>PG</td>\n",
       "      <td>30.0</td>\n",
       "      <td>600.0</td>\n",
       "    </tr>\n",
       "  </tbody>\n",
       "</table>\n",
       "</div>"
      ],
      "text/plain": [
       "              hospital  zone         meal restaurant  quantity  \\\n",
       "0  BIDMC - West Campus     1    lunch_mon         PO      60.0   \n",
       "1  BIDMC - West Campus     1   lunch_tues         FC      60.0   \n",
       "2  BIDMC - West Campus     1    lunch_wed         PG      60.0   \n",
       "3  BIDMC - West Campus     1  lunch_thurs         PO      60.0   \n",
       "4  BIDMC - West Campus     1    lunch_fri         PG      60.0   \n",
       "5  BIDMC - East Campus     1    lunch_mon         PO      30.0   \n",
       "6  BIDMC - East Campus     1   lunch_tues         FC      30.0   \n",
       "7  BIDMC - East Campus     1    lunch_wed         PG      30.0   \n",
       "8  BIDMC - East Campus     1  lunch_thurs         PO      30.0   \n",
       "9  BIDMC - East Campus     1    lunch_fri         PG      30.0   \n",
       "\n",
       "   restaurant_capacity  \n",
       "0                200.0  \n",
       "1                300.0  \n",
       "2                600.0  \n",
       "3                200.0  \n",
       "4                600.0  \n",
       "5                200.0  \n",
       "6                300.0  \n",
       "7                600.0  \n",
       "8                200.0  \n",
       "9                600.0  "
      ]
     },
     "execution_count": 407,
     "metadata": {},
     "output_type": "execute_result"
    }
   ],
   "source": [
    "meal_log = pd.DataFrame(log, columns=['hospital', 'zone', 'meal', 'restaurant', 'quantity', 'restaurant_capacity'])\n",
    "meal_log.head(10)"
   ]
  },
  {
   "cell_type": "markdown",
   "metadata": {},
   "source": [
    "## Rules / Validation Checks:\n",
    "High-level\n",
    "- [x] Within budget (# meals < capacity)\n",
    "\n",
    "Restaurants\n",
    "- [x] Restaurant has capacity for that order\n",
    "- [x] Restaurant is delivering to one cluster per meal time\n",
    "- [x] Restaurant is delivering at least 50 meals for a meal time they are assigned\n",
    "- [x] Restaurant is not delivering to more than 4 dropoffs per meal time\n",
    "- [x] Restaurant is within their max days per week\n",
    "\n",
    "Allocation\n",
    "- [ ] VIP Orders are all fulfilled\n",
    "- [x] All orders are fully-served (this is pretty much intrinsically assumed, given the format of our data)\n",
    "- [ ] Every HP has > 0 orders\n",
    "- [ ] Equitable meals served: all HPs are within 1 order of each other, excluding VIP orders"
   ]
  },
  {
   "cell_type": "code",
   "execution_count": 408,
   "metadata": {},
   "outputs": [],
   "source": [
    "def test(condition, *print_args):\n",
    "    if not condition:\n",
    "        print('TEST FAILURE:', print_args[0])\n",
    "        for arg in print_args[1:]:\n",
    "            print(arg)"
   ]
  },
  {
   "cell_type": "code",
   "execution_count": 409,
   "metadata": {},
   "outputs": [],
   "source": [
    "# NOTHING in here should be null! This means something isn't matching up with our priors in our spreadsheets!\n",
    "test(meal_log.isnull().sum().sum() == 0, 'we have nulls in our dense meal log set!')"
   ]
  },
  {
   "cell_type": "code",
   "execution_count": 410,
   "metadata": {},
   "outputs": [],
   "source": [
    "# Within budget\n",
    "test(meal_log['quantity'].sum() < MEAL_CAPACITY, 'we are above meal capacity', meal_log['quantity'].sum(), MEAL_CAPACITY)"
   ]
  },
  {
   "cell_type": "code",
   "execution_count": 411,
   "metadata": {},
   "outputs": [],
   "source": [
    "# Restauarant assertions\n",
    "under_capacity = meal_log[meal_log['restaurant_capacity'] < meal_log['quantity']]\n",
    "test(under_capacity.empty, 'Some restaurants are assinged a meal that is over their capacity')"
   ]
  },
  {
   "cell_type": "code",
   "execution_count": 412,
   "metadata": {},
   "outputs": [
    {
     "name": "stdout",
     "output_type": "stream",
     "text": [
      "TEST FAILURE: Some restaurants are delivering to more than one zone for a meal!\n",
      "                         zone\n",
      "meal         restaurant      \n",
      "dinner_fri   PG             2\n",
      "dinner_mon   FC             2\n",
      "dinner_sat   MM             2\n",
      "dinner_sun   PG             2\n",
      "dinner_thurs LD             2\n",
      "dinner_tues  FC             2\n",
      "             LD             2\n",
      "dinner_wed   CS             2\n",
      "lunch_fri    FC             2\n",
      "             PG             2\n",
      "lunch_mon    FC             2\n",
      "             LD             2\n",
      "             PO             2\n",
      "lunch_sun    LD             2\n",
      "             MM             2\n",
      "lunch_thurs  LD             2\n",
      "lunch_wed    FC             2\n",
      "             PG             3\n",
      "             PO             2\n"
     ]
    }
   ],
   "source": [
    "# Restaurant is delivering one cluster per meal time\n",
    "restaurant_delivery_zones = meal_log.groupby(['meal', 'restaurant'])[['zone']].nunique()\n",
    "multiple_zones = restaurant_delivery_zones[restaurant_delivery_zones['zone'] > 1]\n",
    "test(multiple_zones.empty, 'Some restaurants are delivering to more than one zone for a meal!', multiple_zones)"
   ]
  },
  {
   "cell_type": "code",
   "execution_count": 413,
   "metadata": {
    "scrolled": true
   },
   "outputs": [
    {
     "name": "stdout",
     "output_type": "stream",
     "text": [
      "TEST FAILURE: Some restaurants are delivery a low quantity of meals for an order!\n",
      "                      quantity\n",
      "meal      restaurant          \n",
      "lunch_fri PO              30.0\n"
     ]
    }
   ],
   "source": [
    "# Restaurant is delivering at least `MIN_MEALS_PER_RUN` per run\n",
    "restaurant_quantity_per_meal = meal_log.groupby(['meal', 'restaurant'])[['quantity']].sum()\n",
    "small_orders_per_meal = restaurant_quantity_per_meal[restaurant_quantity_per_meal['quantity'] < MIN_MEALS_PER_RUN]\n",
    "test(small_orders_per_meal.empty, 'Some restaurants are delivery a low quantity of meals for an order!', small_orders_per_meal)"
   ]
  },
  {
   "cell_type": "code",
   "execution_count": 414,
   "metadata": {},
   "outputs": [],
   "source": [
    "# Restaurant is delivering no more than `MAX_DROPOFFS_PER_RUN` dropoffs per run\n",
    "dropoffs_per_run = meal_log.groupby(['meal', 'zone', 'restaurant'])[['hospital']].count()\n",
    "too_many_dropoffs = dropoffs_per_run[dropoffs_per_run['hospital'] > MAX_DROPOFFS_PER_RUN]\n",
    "test(too_many_dropoffs.empty, 'Some restaurants are delivering to too many dropoff points per run!', too_many_dropoffs)"
   ]
  },
  {
   "cell_type": "code",
   "execution_count": 415,
   "metadata": {},
   "outputs": [],
   "source": [
    "# Restaurant is within their max days per week\n",
    "\n",
    "# Roll up all the meals into days\n",
    "def column_to_day(series):\n",
    "    days = set(series.map(lambda m: m.replace('lunch', '').replace('breakfast', '').replace('dinner', '').replace('_', '')))\n",
    "    return len(days)\n",
    "    \n",
    "\n",
    "days_worked = meal_log.groupby(['restaurant']).agg({'meal': [('Days Worked', column_to_day)]}).reset_index()\n",
    "days_worked.columns = ['restaurant', 'Days Worked']\n",
    "days_with_capacity = days_worked.merge(restaurants[['max_days_per_week']], left_on='restaurant', right_on='code')\n",
    "days_over_capacity = days_with_capacity[days_with_capacity['Days Worked'] > days_with_capacity['max_days_per_week']]\n",
    "test(too_many_dropoffs.empty, 'Some restaurants are working more days than requested this week', days_over_capacity)"
   ]
  },
  {
   "cell_type": "markdown",
   "metadata": {},
   "source": [
    "## KPIS:\n",
    "- [X] Meals scheduled for delivery\n",
    "- [x] Utilization % (number of meals delivered / capacity)\n",
    "- [x] Meals per Delivery Run\n",
    "- [x] Total meals and number of orders for each HP\n",
    "- [x] Total meals and number of orders for each Restaurant"
   ]
  },
  {
   "cell_type": "code",
   "execution_count": 416,
   "metadata": {},
   "outputs": [
    {
     "data": {
      "text/plain": [
       "9323.0"
      ]
     },
     "execution_count": 416,
     "metadata": {},
     "output_type": "execute_result"
    }
   ],
   "source": [
    "# Number of meals delivered\n",
    "meals_scheduled = meal_log['quantity'].sum()\n",
    "meals_scheduled"
   ]
  },
  {
   "cell_type": "code",
   "execution_count": 417,
   "metadata": {},
   "outputs": [
    {
     "name": "stdout",
     "output_type": "stream",
     "text": [
      "93.23%\n"
     ]
    }
   ],
   "source": [
    "# Meal Utilization %\n",
    "utilization = meals_scheduled / MEAL_CAPACITY\n",
    "print(str(utilization * 100) + '%')"
   ]
  },
  {
   "cell_type": "code",
   "execution_count": 418,
   "metadata": {},
   "outputs": [],
   "source": [
    "grouped_by_meal_restaurant = meal_log.groupby(['meal', 'restaurant']).agg({\n",
    "    'quantity': ['sum', 'count']\n",
    "}).sort_values(by='meal', ascending=False)\n",
    "# grouped_by_meal_restaurant.head(10)"
   ]
  },
  {
   "cell_type": "code",
   "execution_count": 419,
   "metadata": {},
   "outputs": [
    {
     "data": {
      "text/html": [
       "<div>\n",
       "<style scoped>\n",
       "    .dataframe tbody tr th:only-of-type {\n",
       "        vertical-align: middle;\n",
       "    }\n",
       "\n",
       "    .dataframe tbody tr th {\n",
       "        vertical-align: top;\n",
       "    }\n",
       "\n",
       "    .dataframe thead th {\n",
       "        text-align: right;\n",
       "    }\n",
       "</style>\n",
       "<table border=\"1\" class=\"dataframe\">\n",
       "  <thead>\n",
       "    <tr style=\"text-align: right;\">\n",
       "      <th></th>\n",
       "      <th>Meals per Meal Time</th>\n",
       "      <th>Dropoff Points</th>\n",
       "    </tr>\n",
       "  </thead>\n",
       "  <tbody>\n",
       "    <tr>\n",
       "      <th>median</th>\n",
       "      <td>178.50000</td>\n",
       "      <td>2.500000</td>\n",
       "    </tr>\n",
       "    <tr>\n",
       "      <th>mean</th>\n",
       "      <td>221.97619</td>\n",
       "      <td>2.690476</td>\n",
       "    </tr>\n",
       "    <tr>\n",
       "      <th>min</th>\n",
       "      <td>30.00000</td>\n",
       "      <td>1.000000</td>\n",
       "    </tr>\n",
       "    <tr>\n",
       "      <th>max</th>\n",
       "      <td>716.00000</td>\n",
       "      <td>5.000000</td>\n",
       "    </tr>\n",
       "  </tbody>\n",
       "</table>\n",
       "</div>"
      ],
      "text/plain": [
       "        Meals per Meal Time  Dropoff Points\n",
       "median            178.50000        2.500000\n",
       "mean              221.97619        2.690476\n",
       "min                30.00000        1.000000\n",
       "max               716.00000        5.000000"
      ]
     },
     "execution_count": 419,
     "metadata": {},
     "output_type": "execute_result"
    }
   ],
   "source": [
    "# Meals delivered by Run, and Number of Dropoff Points\n",
    "# CAVEAT: this ASSUMES that a restaurant is delivering to a single cluster for one meal time. Careful!\n",
    "meals_per_run_agg = grouped_by_meal_restaurant.agg(['median', 'mean', 'min', 'max'])\n",
    "meals_per_run_agg.columns = ['Meals per Meal Time', 'Dropoff Points']\n",
    "meals_per_run_agg"
   ]
  },
  {
   "cell_type": "code",
   "execution_count": 420,
   "metadata": {},
   "outputs": [
    {
     "data": {
      "text/html": [
       "<div>\n",
       "<style scoped>\n",
       "    .dataframe tbody tr th:only-of-type {\n",
       "        vertical-align: middle;\n",
       "    }\n",
       "\n",
       "    .dataframe tbody tr th {\n",
       "        vertical-align: top;\n",
       "    }\n",
       "\n",
       "    .dataframe thead th {\n",
       "        text-align: right;\n",
       "    }\n",
       "</style>\n",
       "<table border=\"1\" class=\"dataframe\">\n",
       "  <thead>\n",
       "    <tr style=\"text-align: right;\">\n",
       "      <th></th>\n",
       "      <th>quantity</th>\n",
       "    </tr>\n",
       "    <tr>\n",
       "      <th>restaurant</th>\n",
       "      <th></th>\n",
       "    </tr>\n",
       "  </thead>\n",
       "  <tbody>\n",
       "    <tr>\n",
       "      <th>LD</th>\n",
       "      <td>3315.0</td>\n",
       "    </tr>\n",
       "    <tr>\n",
       "      <th>PG</th>\n",
       "      <td>2632.0</td>\n",
       "    </tr>\n",
       "    <tr>\n",
       "      <th>FC</th>\n",
       "      <td>1568.0</td>\n",
       "    </tr>\n",
       "    <tr>\n",
       "      <th>PO</th>\n",
       "      <td>842.0</td>\n",
       "    </tr>\n",
       "    <tr>\n",
       "      <th>MM</th>\n",
       "      <td>701.0</td>\n",
       "    </tr>\n",
       "    <tr>\n",
       "      <th>CS</th>\n",
       "      <td>265.0</td>\n",
       "    </tr>\n",
       "  </tbody>\n",
       "</table>\n",
       "</div>"
      ],
      "text/plain": [
       "            quantity\n",
       "restaurant          \n",
       "LD            3315.0\n",
       "PG            2632.0\n",
       "FC            1568.0\n",
       "PO             842.0\n",
       "MM             701.0\n",
       "CS             265.0"
      ]
     },
     "execution_count": 420,
     "metadata": {},
     "output_type": "execute_result"
    }
   ],
   "source": [
    "# Total number of meals delivered by restaurant\n",
    "meal_log.groupby('restaurant')[['quantity']].sum().sort_values(by='quantity', ascending=False)"
   ]
  },
  {
   "cell_type": "code",
   "execution_count": 421,
   "metadata": {
    "scrolled": true
   },
   "outputs": [
    {
     "data": {
      "text/html": [
       "<div>\n",
       "<style scoped>\n",
       "    .dataframe tbody tr th:only-of-type {\n",
       "        vertical-align: middle;\n",
       "    }\n",
       "\n",
       "    .dataframe tbody tr th {\n",
       "        vertical-align: top;\n",
       "    }\n",
       "\n",
       "    .dataframe thead tr th {\n",
       "        text-align: left;\n",
       "    }\n",
       "\n",
       "    .dataframe thead tr:last-of-type th {\n",
       "        text-align: right;\n",
       "    }\n",
       "</style>\n",
       "<table border=\"1\" class=\"dataframe\">\n",
       "  <thead>\n",
       "    <tr>\n",
       "      <th></th>\n",
       "      <th colspan=\"2\" halign=\"left\">quantity</th>\n",
       "    </tr>\n",
       "    <tr>\n",
       "      <th></th>\n",
       "      <th>meal_sum</th>\n",
       "      <th>orders_fulfilled</th>\n",
       "    </tr>\n",
       "    <tr>\n",
       "      <th>restaurant</th>\n",
       "      <th></th>\n",
       "      <th></th>\n",
       "    </tr>\n",
       "  </thead>\n",
       "  <tbody>\n",
       "    <tr>\n",
       "      <th>LD</th>\n",
       "      <td>3315.0</td>\n",
       "      <td>27</td>\n",
       "    </tr>\n",
       "    <tr>\n",
       "      <th>PG</th>\n",
       "      <td>2632.0</td>\n",
       "      <td>27</td>\n",
       "    </tr>\n",
       "    <tr>\n",
       "      <th>FC</th>\n",
       "      <td>1568.0</td>\n",
       "      <td>27</td>\n",
       "    </tr>\n",
       "    <tr>\n",
       "      <th>PO</th>\n",
       "      <td>842.0</td>\n",
       "      <td>16</td>\n",
       "    </tr>\n",
       "    <tr>\n",
       "      <th>MM</th>\n",
       "      <td>701.0</td>\n",
       "      <td>13</td>\n",
       "    </tr>\n",
       "    <tr>\n",
       "      <th>CS</th>\n",
       "      <td>265.0</td>\n",
       "      <td>3</td>\n",
       "    </tr>\n",
       "  </tbody>\n",
       "</table>\n",
       "</div>"
      ],
      "text/plain": [
       "           quantity                 \n",
       "           meal_sum orders_fulfilled\n",
       "restaurant                          \n",
       "LD           3315.0               27\n",
       "PG           2632.0               27\n",
       "FC           1568.0               27\n",
       "PO            842.0               16\n",
       "MM            701.0               13\n",
       "CS            265.0                3"
      ]
     },
     "execution_count": 421,
     "metadata": {},
     "output_type": "execute_result"
    }
   ],
   "source": [
    "# Total meals and orders for each Restaurant\n",
    "meal_log.groupby('restaurant').agg({\n",
    "    'quantity': [('meal_sum', 'sum'), ('orders_fulfilled', 'count')]\n",
    "}).sort_values([('quantity', 'meal_sum')], ascending=False)"
   ]
  },
  {
   "cell_type": "code",
   "execution_count": 422,
   "metadata": {
    "scrolled": true
   },
   "outputs": [
    {
     "data": {
      "text/html": [
       "<div>\n",
       "<style scoped>\n",
       "    .dataframe tbody tr th:only-of-type {\n",
       "        vertical-align: middle;\n",
       "    }\n",
       "\n",
       "    .dataframe tbody tr th {\n",
       "        vertical-align: top;\n",
       "    }\n",
       "\n",
       "    .dataframe thead tr th {\n",
       "        text-align: left;\n",
       "    }\n",
       "\n",
       "    .dataframe thead tr:last-of-type th {\n",
       "        text-align: right;\n",
       "    }\n",
       "</style>\n",
       "<table border=\"1\" class=\"dataframe\">\n",
       "  <thead>\n",
       "    <tr>\n",
       "      <th></th>\n",
       "      <th colspan=\"2\" halign=\"left\">quantity</th>\n",
       "    </tr>\n",
       "    <tr>\n",
       "      <th></th>\n",
       "      <th>total_meals_received</th>\n",
       "      <th>total_orders_fulfilled</th>\n",
       "    </tr>\n",
       "    <tr>\n",
       "      <th>hospital</th>\n",
       "      <th></th>\n",
       "      <th></th>\n",
       "    </tr>\n",
       "  </thead>\n",
       "  <tbody>\n",
       "    <tr>\n",
       "      <th>Boston Medical Center</th>\n",
       "      <td>3600.0</td>\n",
       "      <td>7</td>\n",
       "    </tr>\n",
       "    <tr>\n",
       "      <th>Carney Hospital - ED</th>\n",
       "      <td>600.0</td>\n",
       "      <td>6</td>\n",
       "    </tr>\n",
       "    <tr>\n",
       "      <th>VA Medical Center - West Roxbury</th>\n",
       "      <td>480.0</td>\n",
       "      <td>6</td>\n",
       "    </tr>\n",
       "    <tr>\n",
       "      <th>Whittier Street Health Center</th>\n",
       "      <td>450.0</td>\n",
       "      <td>3</td>\n",
       "    </tr>\n",
       "    <tr>\n",
       "      <th>Brigham and Women's Hospital - ED</th>\n",
       "      <td>400.0</td>\n",
       "      <td>4</td>\n",
       "    </tr>\n",
       "    <tr>\n",
       "      <th>Codman Square Health Center</th>\n",
       "      <td>330.0</td>\n",
       "      <td>3</td>\n",
       "    </tr>\n",
       "    <tr>\n",
       "      <th>Massachusetts General Hospital - ED</th>\n",
       "      <td>325.0</td>\n",
       "      <td>5</td>\n",
       "    </tr>\n",
       "    <tr>\n",
       "      <th>BIDMC - West Campus</th>\n",
       "      <td>300.0</td>\n",
       "      <td>5</td>\n",
       "    </tr>\n",
       "    <tr>\n",
       "      <th>East Boston Neighborhood Health Center</th>\n",
       "      <td>275.0</td>\n",
       "      <td>4</td>\n",
       "    </tr>\n",
       "    <tr>\n",
       "      <th>Tufts Medical Center</th>\n",
       "      <td>250.0</td>\n",
       "      <td>5</td>\n",
       "    </tr>\n",
       "    <tr>\n",
       "      <th>South Boston Community Health Center</th>\n",
       "      <td>240.0</td>\n",
       "      <td>3</td>\n",
       "    </tr>\n",
       "    <tr>\n",
       "      <th>Upham's Corner Health Center</th>\n",
       "      <td>210.0</td>\n",
       "      <td>3</td>\n",
       "    </tr>\n",
       "    <tr>\n",
       "      <th>Brigham and Women's - Faulkner ED</th>\n",
       "      <td>180.0</td>\n",
       "      <td>4</td>\n",
       "    </tr>\n",
       "    <tr>\n",
       "      <th>Boston Healthcare for the Homeless</th>\n",
       "      <td>168.0</td>\n",
       "      <td>14</td>\n",
       "    </tr>\n",
       "    <tr>\n",
       "      <th>Massachusetts General Hospital - ICU</th>\n",
       "      <td>160.0</td>\n",
       "      <td>2</td>\n",
       "    </tr>\n",
       "    <tr>\n",
       "      <th>Cambridge Health Alliance - Everett Hospital</th>\n",
       "      <td>150.0</td>\n",
       "      <td>1</td>\n",
       "    </tr>\n",
       "    <tr>\n",
       "      <th>BIDMC - East Campus</th>\n",
       "      <td>150.0</td>\n",
       "      <td>5</td>\n",
       "    </tr>\n",
       "    <tr>\n",
       "      <th>Boston Children's Hospital - ED</th>\n",
       "      <td>120.0</td>\n",
       "      <td>2</td>\n",
       "    </tr>\n",
       "    <tr>\n",
       "      <th>BIDMC - ICU West</th>\n",
       "      <td>120.0</td>\n",
       "      <td>2</td>\n",
       "    </tr>\n",
       "    <tr>\n",
       "      <th>Cambridge Health Alliance - Cambridge Hospital</th>\n",
       "      <td>115.0</td>\n",
       "      <td>1</td>\n",
       "    </tr>\n",
       "    <tr>\n",
       "      <th>Mattapan Community Health Center</th>\n",
       "      <td>105.0</td>\n",
       "      <td>3</td>\n",
       "    </tr>\n",
       "    <tr>\n",
       "      <th>BWH - Faulkner 7N Covid Unit</th>\n",
       "      <td>104.0</td>\n",
       "      <td>4</td>\n",
       "    </tr>\n",
       "    <tr>\n",
       "      <th>Southern Jamaica Plain Health Center (part of Brigham &amp; Women's)</th>\n",
       "      <td>90.0</td>\n",
       "      <td>3</td>\n",
       "    </tr>\n",
       "    <tr>\n",
       "      <th>Dana Farber Cancer Institute - Inpatient PAs</th>\n",
       "      <td>80.0</td>\n",
       "      <td>3</td>\n",
       "    </tr>\n",
       "    <tr>\n",
       "      <th>Dot House Health Dorchester</th>\n",
       "      <td>75.0</td>\n",
       "      <td>3</td>\n",
       "    </tr>\n",
       "    <tr>\n",
       "      <th>Charles River Community Health</th>\n",
       "      <td>72.0</td>\n",
       "      <td>3</td>\n",
       "    </tr>\n",
       "    <tr>\n",
       "      <th>BWH - Faulkner ICU</th>\n",
       "      <td>64.0</td>\n",
       "      <td>4</td>\n",
       "    </tr>\n",
       "    <tr>\n",
       "      <th>BIDMC - ICU East</th>\n",
       "      <td>40.0</td>\n",
       "      <td>2</td>\n",
       "    </tr>\n",
       "    <tr>\n",
       "      <th>BIDMC - Chelsea</th>\n",
       "      <td>40.0</td>\n",
       "      <td>2</td>\n",
       "    </tr>\n",
       "    <tr>\n",
       "      <th>Cambridge Health Alliance - Somerville Hospital</th>\n",
       "      <td>30.0</td>\n",
       "      <td>1</td>\n",
       "    </tr>\n",
       "  </tbody>\n",
       "</table>\n",
       "</div>"
      ],
      "text/plain": [
       "                                                               quantity  \\\n",
       "                                                   total_meals_received   \n",
       "hospital                                                                  \n",
       "Boston Medical Center                                            3600.0   \n",
       "Carney Hospital - ED                                              600.0   \n",
       "VA Medical Center - West Roxbury                                  480.0   \n",
       "Whittier Street Health Center                                     450.0   \n",
       "Brigham and Women's Hospital - ED                                 400.0   \n",
       "Codman Square Health Center                                       330.0   \n",
       "Massachusetts General Hospital - ED                               325.0   \n",
       "BIDMC - West Campus                                               300.0   \n",
       "East Boston Neighborhood Health Center                            275.0   \n",
       "Tufts Medical Center                                              250.0   \n",
       "South Boston Community Health Center                              240.0   \n",
       "Upham's Corner Health Center                                      210.0   \n",
       "Brigham and Women's - Faulkner ED                                 180.0   \n",
       "Boston Healthcare for the Homeless                                168.0   \n",
       "Massachusetts General Hospital - ICU                              160.0   \n",
       "Cambridge Health Alliance - Everett Hospital                      150.0   \n",
       "BIDMC - East Campus                                               150.0   \n",
       "Boston Children's Hospital - ED                                   120.0   \n",
       "BIDMC - ICU West                                                  120.0   \n",
       "Cambridge Health Alliance - Cambridge Hospital                    115.0   \n",
       "Mattapan Community Health Center                                  105.0   \n",
       "BWH - Faulkner 7N Covid Unit                                      104.0   \n",
       "Southern Jamaica Plain Health Center (part of B...                 90.0   \n",
       "Dana Farber Cancer Institute - Inpatient PAs                       80.0   \n",
       "Dot House Health Dorchester                                        75.0   \n",
       "Charles River Community Health                                     72.0   \n",
       "BWH - Faulkner ICU                                                 64.0   \n",
       "BIDMC - ICU East                                                   40.0   \n",
       "BIDMC - Chelsea                                                    40.0   \n",
       "Cambridge Health Alliance - Somerville Hospital                    30.0   \n",
       "\n",
       "                                                                           \n",
       "                                                   total_orders_fulfilled  \n",
       "hospital                                                                   \n",
       "Boston Medical Center                                                   7  \n",
       "Carney Hospital - ED                                                    6  \n",
       "VA Medical Center - West Roxbury                                        6  \n",
       "Whittier Street Health Center                                           3  \n",
       "Brigham and Women's Hospital - ED                                       4  \n",
       "Codman Square Health Center                                             3  \n",
       "Massachusetts General Hospital - ED                                     5  \n",
       "BIDMC - West Campus                                                     5  \n",
       "East Boston Neighborhood Health Center                                  4  \n",
       "Tufts Medical Center                                                    5  \n",
       "South Boston Community Health Center                                    3  \n",
       "Upham's Corner Health Center                                            3  \n",
       "Brigham and Women's - Faulkner ED                                       4  \n",
       "Boston Healthcare for the Homeless                                     14  \n",
       "Massachusetts General Hospital - ICU                                    2  \n",
       "Cambridge Health Alliance - Everett Hospital                            1  \n",
       "BIDMC - East Campus                                                     5  \n",
       "Boston Children's Hospital - ED                                         2  \n",
       "BIDMC - ICU West                                                        2  \n",
       "Cambridge Health Alliance - Cambridge Hospital                          1  \n",
       "Mattapan Community Health Center                                        3  \n",
       "BWH - Faulkner 7N Covid Unit                                            4  \n",
       "Southern Jamaica Plain Health Center (part of B...                      3  \n",
       "Dana Farber Cancer Institute - Inpatient PAs                            3  \n",
       "Dot House Health Dorchester                                             3  \n",
       "Charles River Community Health                                          3  \n",
       "BWH - Faulkner ICU                                                      4  \n",
       "BIDMC - ICU East                                                        2  \n",
       "BIDMC - Chelsea                                                         2  \n",
       "Cambridge Health Alliance - Somerville Hospital                         1  "
      ]
     },
     "execution_count": 422,
     "metadata": {},
     "output_type": "execute_result"
    }
   ],
   "source": [
    "# Total numbers of meals and orders received for each HP\n",
    "meal_log[['hospital', 'quantity']].groupby('hospital').agg({\n",
    "    'quantity': [('total_meals_received', 'sum'), ('total_orders_fulfilled', 'count')]\n",
    "}).sort_values([('quantity', 'total_meals_received')], ascending=False)"
   ]
  },
  {
   "cell_type": "code",
   "execution_count": null,
   "metadata": {},
   "outputs": [],
   "source": []
  },
  {
   "cell_type": "code",
   "execution_count": null,
   "metadata": {},
   "outputs": [],
   "source": []
  },
  {
   "cell_type": "code",
   "execution_count": null,
   "metadata": {},
   "outputs": [],
   "source": []
  }
 ],
 "metadata": {
  "kernelspec": {
   "display_name": "Python 3",
   "language": "python",
   "name": "python3"
  },
  "language_info": {
   "codemirror_mode": {
    "name": "ipython",
    "version": 3
   },
   "file_extension": ".py",
   "mimetype": "text/x-python",
   "name": "python",
   "nbconvert_exporter": "python",
   "pygments_lexer": "ipython3",
   "version": "3.8.0"
  }
 },
 "nbformat": 4,
 "nbformat_minor": 4
}
