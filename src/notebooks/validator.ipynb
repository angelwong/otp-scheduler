{
 "cells": [
  {
   "cell_type": "code",
   "execution_count": null,
   "metadata": {},
   "outputs": [],
   "source": [
    "import os\n",
    "import sys\n",
    "module_path = os.path.abspath(os.path.join('../..'))\n",
    "print(module_path)\n",
    "if module_path not in sys.path:\n",
    "    sys.path.append(module_path)"
   ]
  },
  {
   "cell_type": "code",
   "execution_count": null,
   "metadata": {
    "scrolled": true
   },
   "outputs": [],
   "source": [
    "import pandas as pd\n",
    "from src import parse"
   ]
  },
  {
   "cell_type": "code",
   "execution_count": null,
   "metadata": {},
   "outputs": [],
   "source": [
    "def sort_schedule(df):\n",
    "    return df.sort_values(by=['zone', 'priority_rank', 'code']).reset_index(drop=True)"
   ]
  },
  {
   "cell_type": "code",
   "execution_count": null,
   "metadata": {},
   "outputs": [],
   "source": [
    "# ASSUMPTIONS\n",
    "MEAL_CAPACITY = 10000\n",
    "MAX_DROPOFFS_PER_RUN = 4\n",
    "MIN_MEALS_PER_RUN = 50"
   ]
  },
  {
   "cell_type": "code",
   "execution_count": null,
   "metadata": {},
   "outputs": [],
   "source": [
    "restaurants = parse.parse_from_restaurants_csv('../../examples/boston/20200405/restaurants.csv').set_index('code')"
   ]
  },
  {
   "cell_type": "code",
   "execution_count": null,
   "metadata": {},
   "outputs": [],
   "source": [
    "restaurants.shape"
   ]
  },
  {
   "cell_type": "code",
   "execution_count": null,
   "metadata": {},
   "outputs": [],
   "source": [
    "hospitals = sort_schedule(parse.parse_from_hospital_requests_csv('../../examples/boston/20200405/hospitals.csv'))\n",
    "schedule = hospitals.iloc[:, 5:]"
   ]
  },
  {
   "cell_type": "code",
   "execution_count": null,
   "metadata": {
    "scrolled": true
   },
   "outputs": [],
   "source": [
    "vip_hospitals = sort_schedule(parse.parse_from_hospital_requests_csv('../../examples/boston/20200405/vips.csv'))\n",
    "vip_schedule = vip_hospitals.iloc[:, 5:]\n",
    "vip_schedule.shape"
   ]
  },
  {
   "cell_type": "code",
   "execution_count": null,
   "metadata": {
    "scrolled": true
   },
   "outputs": [],
   "source": [
    "results = sort_schedule(parse.parse_from_results_csv('../../examples/boston/20200405/results.csv'))\n",
    "results.shape"
   ]
  },
  {
   "cell_type": "code",
   "execution_count": null,
   "metadata": {},
   "outputs": [],
   "source": [
    "results_schedule = results.iloc[:, 5:]\n",
    "results_schedule_columns = results_schedule.columns"
   ]
  },
  {
   "cell_type": "code",
   "execution_count": null,
   "metadata": {},
   "outputs": [],
   "source": [
    "log = []\n",
    "vip_log = []\n",
    "for i, row in results_schedule.iterrows():\n",
    "    for j, val in enumerate(row):\n",
    "        if not pd.isnull(val):\n",
    "            log.append([\n",
    "                hospitals.iloc[i, 1], \n",
    "                hospitals.iloc[i, 4],\n",
    "                results_schedule_columns[j], \n",
    "                val, \n",
    "                schedule.iloc[i, j], \n",
    "                restaurants[results_schedule_columns[j]][val],\n",
    "            ])"
   ]
  },
  {
   "cell_type": "code",
   "execution_count": null,
   "metadata": {},
   "outputs": [],
   "source": [
    "meal_log = pd.DataFrame(log, columns=['hospital', 'zone', 'meal', 'restaurant', 'quantity', 'restaurant_capacity'])\n",
    "meal_log.head(10)"
   ]
  },
  {
   "cell_type": "markdown",
   "metadata": {},
   "source": [
    "## Rules / Validation Checks:\n",
    "High-level\n",
    "- [x] Within budget (# meals < capacity)\n",
    "\n",
    "Restaurants\n",
    "- [x] Restaurant has capacity for that order\n",
    "- [x] Restaurant is delivering to one cluster per meal time\n",
    "- [x] Restaurant is delivering at least 50 meals for a meal time they are assigned\n",
    "- [x] Restaurant is not delivering to more than 4 dropoffs per meal time\n",
    "- [x] Restaurant is within their max days per week\n",
    "\n",
    "Allocation\n",
    "- [x] VIP Orders are all fulfilled\n",
    "- [x] All orders are fully-served (this is pretty much intrinsically assumed, given the format of our data)\n",
    "- [x] Every HP has > 0 orders"
   ]
  },
  {
   "cell_type": "code",
   "execution_count": null,
   "metadata": {},
   "outputs": [],
   "source": [
    "def test(condition, *print_args):\n",
    "    if not condition:\n",
    "        print('TEST FAILURE:', print_args[0])\n",
    "        for arg in print_args[1:]:\n",
    "            print(arg)"
   ]
  },
  {
   "cell_type": "code",
   "execution_count": null,
   "metadata": {},
   "outputs": [],
   "source": [
    "# NOTHING in here should be null! This means something isn't matching up with our priors in our spreadsheets!\n",
    "test(meal_log.isnull().sum().sum() == 0, 'we have nulls in our dense meal log set!')"
   ]
  },
  {
   "cell_type": "code",
   "execution_count": null,
   "metadata": {},
   "outputs": [],
   "source": [
    "# Within budget\n",
    "test(meal_log['quantity'].sum() < MEAL_CAPACITY, 'we are above meal capacity', meal_log['quantity'].sum(), MEAL_CAPACITY)"
   ]
  },
  {
   "cell_type": "code",
   "execution_count": null,
   "metadata": {},
   "outputs": [],
   "source": [
    "# Restauarant assertions\n",
    "under_capacity = meal_log[meal_log['restaurant_capacity'] < meal_log['quantity']]\n",
    "test(under_capacity.empty, 'Some restaurants are assinged a meal that is over their capacity')"
   ]
  },
  {
   "cell_type": "code",
   "execution_count": null,
   "metadata": {},
   "outputs": [],
   "source": [
    "# Restaurant is delivering one cluster per meal time\n",
    "restaurant_delivery_zones = meal_log.groupby(['meal', 'restaurant'])[['zone']].nunique()\n",
    "multiple_zones = restaurant_delivery_zones[restaurant_delivery_zones['zone'] > 1]\n",
    "test(multiple_zones.empty, 'Some restaurants are delivering to more than one zone for a meal!', multiple_zones)"
   ]
  },
  {
   "cell_type": "code",
   "execution_count": null,
   "metadata": {
    "scrolled": true
   },
   "outputs": [],
   "source": [
    "# Restaurant is delivering at least `MIN_MEALS_PER_RUN` per run\n",
    "restaurant_quantity_per_meal = meal_log.groupby(['meal', 'restaurant'])[['quantity']].sum()\n",
    "small_orders_per_meal = restaurant_quantity_per_meal[restaurant_quantity_per_meal['quantity'] < MIN_MEALS_PER_RUN]\n",
    "test(small_orders_per_meal.empty, 'Some restaurants are delivery a low quantity of meals for an order!', small_orders_per_meal)"
   ]
  },
  {
   "cell_type": "code",
   "execution_count": null,
   "metadata": {},
   "outputs": [],
   "source": [
    "# Restaurant is delivering no more than `MAX_DROPOFFS_PER_RUN` dropoffs per run\n",
    "dropoffs_per_run = meal_log.groupby(['meal', 'zone', 'restaurant'])[['hospital']].count()\n",
    "too_many_dropoffs = dropoffs_per_run[dropoffs_per_run['hospital'] > MAX_DROPOFFS_PER_RUN]\n",
    "test(too_many_dropoffs.empty, 'Some restaurants are delivering to too many dropoff points per run!', too_many_dropoffs)"
   ]
  },
  {
   "cell_type": "code",
   "execution_count": null,
   "metadata": {},
   "outputs": [],
   "source": [
    "# Restaurant is within their max days per week\n",
    "\n",
    "# Roll up all the meals into days\n",
    "def column_to_day(series):\n",
    "    days = set(series.map(lambda m: m.replace('lunch', '').replace('breakfast', '').replace('dinner', '').replace('_', '')))\n",
    "    return len(days)\n",
    "    \n",
    "\n",
    "days_worked = meal_log.groupby(['restaurant']).agg({'meal': [('Days Worked', column_to_day)]}).reset_index()\n",
    "days_worked.columns = ['restaurant', 'Days Worked']\n",
    "days_with_capacity = days_worked.merge(restaurants[['max_days_per_week']], left_on='restaurant', right_on='code')\n",
    "days_over_capacity = days_with_capacity[days_with_capacity['Days Worked'] > days_with_capacity['max_days_per_week']]\n",
    "test(too_many_dropoffs.empty, 'Some restaurants are working more days than requested this week', days_over_capacity)"
   ]
  },
  {
   "cell_type": "code",
   "execution_count": null,
   "metadata": {},
   "outputs": [],
   "source": [
    "# Ensure all VIP orders are fulfilled\n",
    "vip_schedule_dense = vip_schedule.dropna(how='all', axis=0).dropna(how='all', axis=1)\n",
    "vip_schedule_dense\n",
    "vip_orders = []\n",
    "missing_meals = []\n",
    "for i, row in vip_schedule_dense.iterrows():\n",
    "    for j, val in enumerate(row):\n",
    "        if not pd.isnull(val):\n",
    "            order = meal_log[(meal_log['hospital'] == hospitals.iloc[i, 1]) & (meal_log['meal'] == vip_schedule_dense.columns[j])]\n",
    "            vip_orders.append(order)\n",
    "            if order.empty:\n",
    "                missing_meals.append((hospitals.iloc[i, 1], vip_schedule_dense.columns[j]))\n",
    "                \n",
    "test(len(missing_meals) == 0, 'Some VIP meal orders have not been fulfilled', missing_meals)"
   ]
  },
  {
   "cell_type": "code",
   "execution_count": null,
   "metadata": {},
   "outputs": [],
   "source": [
    "vip_orders_df = pd.concat(vip_orders).reset_index()"
   ]
  },
  {
   "cell_type": "code",
   "execution_count": null,
   "metadata": {},
   "outputs": [],
   "source": [
    "hospital_meals_rollup = meal_log[['hospital', 'quantity']].groupby('hospital').agg({\n",
    "    'quantity': [('total_meals_received', 'sum'), ('total_orders_fulfilled', 'count')]\n",
    "}).sort_values([('quantity', 'total_meals_received')], ascending=False).reset_index()\n",
    "hospital_meals_rollup.columns = ['hospital', 'total_meals_received', 'total_orders_fulfilled']"
   ]
  },
  {
   "cell_type": "code",
   "execution_count": null,
   "metadata": {},
   "outputs": [],
   "source": [
    "vip_orders_rollup = vip_orders_df.groupby('hospital')[['index']].count().reset_index()\n",
    "vip_orders_rollup.columns = ['hospital', 'vip_meals_count']\n",
    "vip_orders_rollup"
   ]
  },
  {
   "cell_type": "code",
   "execution_count": null,
   "metadata": {},
   "outputs": [],
   "source": [
    "hospital_meals_rollup = meal_log[['hospital', 'quantity']].groupby('hospital').agg({\n",
    "    'quantity': [('total_meals_received', 'sum'), ('total_orders_fulfilled', 'count')],\n",
    "}).sort_values([('quantity', 'total_meals_received')], ascending=False).reset_index()\n",
    "hospital_meals_rollup.columns = ['hospital', 'total_meals_received', 'total_orders_fulfilled']\n",
    "\n",
    "hospital_meals_rollup = hospital_meals_rollup.merge(vip_orders_rollup, on='hospital', how='left').fillna(0)"
   ]
  },
  {
   "cell_type": "code",
   "execution_count": null,
   "metadata": {},
   "outputs": [],
   "source": [
    "# Every HP has > 0 orders\n",
    "hospitals_no_orders = hospital_meals_rollup[hospital_meals_rollup['total_orders_fulfilled'] == 0]\n",
    "test(hospitals_no_orders.empty, 'Some Hospitals received no orders!', hospitals_no_orders)"
   ]
  },
  {
   "cell_type": "markdown",
   "metadata": {},
   "source": [
    "## KPIs:\n",
    "- [X] Meals scheduled for delivery\n",
    "- [x] Utilization % (number of meals delivered / capacity)\n",
    "- [x] Meals per Delivery Run\n",
    "- [x] Total meals and number of orders for each HP\n",
    "- [x] Total meals and number of orders for each Restaurant\n",
    "- [x] Equitable meals served: all HPs are within 1 order of each other, excluding VIP orders"
   ]
  },
  {
   "cell_type": "code",
   "execution_count": null,
   "metadata": {},
   "outputs": [],
   "source": [
    "# Number of meals delivered\n",
    "meals_scheduled = meal_log['quantity'].sum()\n",
    "meals_scheduled"
   ]
  },
  {
   "cell_type": "code",
   "execution_count": null,
   "metadata": {},
   "outputs": [],
   "source": [
    "# Meal Utilization %\n",
    "utilization = meals_scheduled / MEAL_CAPACITY\n",
    "print(str(utilization * 100) + '%')"
   ]
  },
  {
   "cell_type": "code",
   "execution_count": null,
   "metadata": {},
   "outputs": [],
   "source": [
    "grouped_by_meal_restaurant = meal_log.groupby(['meal', 'restaurant']).agg({\n",
    "    'quantity': ['sum', 'count']\n",
    "}).sort_values(by='meal', ascending=False)\n",
    "# grouped_by_meal_restaurant.head(10)"
   ]
  },
  {
   "cell_type": "code",
   "execution_count": null,
   "metadata": {},
   "outputs": [],
   "source": [
    "# Meals delivered by Run, and Number of Dropoff Points\n",
    "# CAVEAT: this ASSUMES that a restaurant is delivering to a single cluster for one meal time. Careful!\n",
    "meals_per_run_agg = grouped_by_meal_restaurant.agg(['median', 'mean', 'min', 'max'])\n",
    "meals_per_run_agg.columns = ['Meals per Meal Time', 'Dropoff Points']\n",
    "meals_per_run_agg"
   ]
  },
  {
   "cell_type": "code",
   "execution_count": null,
   "metadata": {},
   "outputs": [],
   "source": [
    "# Total number of meals delivered by restaurant\n",
    "meal_log.groupby('restaurant')[['quantity']].sum().sort_values(by='quantity', ascending=False)"
   ]
  },
  {
   "cell_type": "code",
   "execution_count": null,
   "metadata": {
    "scrolled": false
   },
   "outputs": [],
   "source": [
    "# Total meals and orders for each Restaurant\n",
    "meal_log.groupby('restaurant').agg({\n",
    "    'quantity': [('meal_sum', 'sum'), ('orders_fulfilled', 'count')]\n",
    "}).sort_values([('quantity', 'meal_sum')], ascending=False)"
   ]
  },
  {
   "cell_type": "code",
   "execution_count": null,
   "metadata": {
    "scrolled": true
   },
   "outputs": [],
   "source": [
    "# Total numbers of meals and orders received for each HP\n",
    "# NB: this variable is defined above, as it's used in a validation test\n",
    "hospital_meals_rollup"
   ]
  },
  {
   "cell_type": "markdown",
   "metadata": {},
   "source": [
    "## Hospital Equity Check"
   ]
  },
  {
   "cell_type": "code",
   "execution_count": 1,
   "metadata": {},
   "outputs": [
    {
     "ename": "NameError",
     "evalue": "name 'hospital_meals_rollup' is not defined",
     "output_type": "error",
     "traceback": [
      "\u001b[0;31m---------------------------------------------------------------------------\u001b[0m",
      "\u001b[0;31mNameError\u001b[0m                                 Traceback (most recent call last)",
      "\u001b[0;32m<ipython-input-1-670b58b667d7>\u001b[0m in \u001b[0;36m<module>\u001b[0;34m\u001b[0m\n\u001b[1;32m      1\u001b[0m \u001b[0;31m# Hospital Equity check\u001b[0m\u001b[0;34m\u001b[0m\u001b[0;34m\u001b[0m\u001b[0;34m\u001b[0m\u001b[0m\n\u001b[0;32m----> 2\u001b[0;31m max_row = hospital_meals_rollup[\n\u001b[0m\u001b[1;32m      3\u001b[0m     hospital_meals_rollup['total_orders_fulfilled'] == hospital_meals_rollup['total_orders_fulfilled'\n\u001b[1;32m      4\u001b[0m ].max()]\n\u001b[1;32m      5\u001b[0m min_row = hospital_meals_rollup[\n",
      "\u001b[0;31mNameError\u001b[0m: name 'hospital_meals_rollup' is not defined"
     ]
    }
   ],
   "source": [
    "# Hospital Equity check\n",
    "max_row = hospital_meals_rollup[\n",
    "    hospital_meals_rollup['total_orders_fulfilled'] == hospital_meals_rollup['total_orders_fulfilled'\n",
    "].max()]\n",
    "min_row = hospital_meals_rollup[\n",
    "    hospital_meals_rollup['total_orders_fulfilled'] == hospital_meals_rollup['total_orders_fulfilled'\n",
    "].min()]\n",
    "\n",
    "order_range = (max_row['total_orders_fulfilled'].values[0] - min_row['total_orders_fulfilled'].values[0])\n",
    "print('INCLUDING VIP MEALS')\n",
    "print('RANGE OF ORDERS FOR HOSPITALS:', order_range)\n",
    "if order_range > 1:\n",
    "    print('This range should ideally only be 1, once we remove VIP orders!')\n",
    "print('Note: this is inclusive of VIP orders. Please verify this discrepancy!')\n",
    "print('------------------------------')\n",
    "print(\n",
    "    'MAXIMUM Order for Hospital:', \n",
    "    max_row['total_orders_fulfilled'], \n",
    "    'for Hospital(s):', \n",
    ")\n",
    "for _, row in max_row.iterrows():\n",
    "    print('-', row['hospital'], '\\tNumber of VIP orders:', row['vip_meals_count'])\n",
    "print()\n",
    "print(\n",
    "    'MINIMUM Order for Hospital:', \n",
    "    min_row['total_orders_fulfilled'], \n",
    "    'for Hospital(s):', \n",
    ")\n",
    "for _, row in min_row.iterrows():\n",
    "    print('-', row['hospital'], '\\tNumber of VIP orders:', row['vip_meals_count'])\n"
   ]
  },
  {
   "cell_type": "code",
   "execution_count": null,
   "metadata": {},
   "outputs": [],
   "source": [
    "print('Removing VIP Meals from the equation (VIP meals collapse to a single meal for each hospital):')\n",
    "(hospital_meals_rollup[\n",
    "    'total_orders_fulfilled'\n",
    "] - hospital_meals_rollup[\n",
    "    'vip_meals_count'\n",
    "].transform(lambda x: max(0, x-1))).describe()"
   ]
  },
  {
   "cell_type": "code",
   "execution_count": null,
   "metadata": {},
   "outputs": [],
   "source": []
  }
 ],
 "metadata": {
  "kernelspec": {
   "display_name": "Python 3",
   "language": "python",
   "name": "python3"
  },
  "language_info": {
   "codemirror_mode": {
    "name": "ipython",
    "version": 3
   },
   "file_extension": ".py",
   "mimetype": "text/x-python",
   "name": "python",
   "nbconvert_exporter": "python",
   "pygments_lexer": "ipython3",
   "version": "3.8.0"
  }
 },
 "nbformat": 4,
 "nbformat_minor": 4
}
